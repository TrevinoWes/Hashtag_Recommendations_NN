{
 "cells": [
  {
   "cell_type": "code",
   "execution_count": 2,
   "metadata": {},
   "outputs": [],
   "source": [
    "import io\n",
    "import numpy as np\n",
    "from sklearn.feature_extraction.text import CountVectorizer\n",
    "from sklearn.feature_extraction.text import TfidfTransformer\n",
    "from sklearn.linear_model import LogisticRegression \n",
    "\n",
    "###########################################################################\n",
    "#generate training/test data\n",
    "########################################################################### \n",
    "bragging_file = io.open(\"Happy_clean.txt\",'r',encoding=\"utf-8\") \n",
    "bitching_file = io.open(\"FML_clean.txt\",'r',encoding=\"utf-8\") \n",
    "\n",
    "\n",
    "bragging_tweets = []\n",
    "bitching_tweets = []\n",
    "\n",
    "for _ in range(249000):\n",
    "    bragging_tweets.append([bragging_file.readline().strip(\"\\n\"),0])\n",
    "    bitching_tweets.append([bitching_file.readline().strip(\"\\n\"),1])\n",
    "    \n",
    "tweets = bragging_tweets+bitching_tweets\n",
    "np.random.seed(42)\n",
    "np.random.shuffle(tweets)\n",
    "\n",
    "\n",
    "tweets_train = np.array(tweets[:348600])\n",
    "tweets_test = np.array(tweets[348600:498000])\n",
    "\n",
    "X_train = tweets_train[:,0]\n",
    "Y_train = tweets_train[:,1]\n",
    "X_test = tweets_test[:,0]\n",
    "Y_test = tweets_test[:,1]\n",
    "\n",
    "#########################################################################\n",
    "#bag of words\n",
    "#########################################################################\n",
    "\n",
    "vectorizer = CountVectorizer()\n",
    "X_train_counts = vectorizer.fit_transform(X_train)\n",
    "X_test_counts = vectorizer.transform(X_test)\n",
    "\n",
    "\n",
    "tfidf_transformer = TfidfTransformer()\n",
    "X_train_tfidf = tfidf_transformer.fit_transform(X_train_counts)\n",
    "X_test_tfidf = tfidf_transformer.transform(X_test_counts)\n"
   ]
  },
  {
   "cell_type": "code",
   "execution_count": 13,
   "metadata": {},
   "outputs": [],
   "source": [
    "\n",
    "import keras.optimizers\n",
    "from keras.models import Sequential \n",
    "from keras.layers import Dense, Activation \n",
    "\n",
    "model = Sequential() \n",
    "model.add( Dense(units=1, activation=\"sigmoid\", input_dim= X_train_counts.shape[1], use_bias=False) )"
   ]
  },
  {
   "cell_type": "code",
   "execution_count": 14,
   "metadata": {
    "collapsed": true
   },
   "outputs": [],
   "source": [
    "sgd = keras.optimizers.SGD(lr=0.0001*400)\n",
    "model.compile(optimizer=sgd, loss='binary_crossentropy', metrics=['accuracy'])"
   ]
  },
  {
   "cell_type": "code",
   "execution_count": null,
   "metadata": {},
   "outputs": [
    {
     "name": "stdout",
     "output_type": "stream",
     "text": [
      "Epoch 1/300\n"
     ]
    }
   ],
   "source": [
    "train_log = model.fit(X_train_counts, Y_train, batch_size= X_train_counts.shape[0], epochs=300)"
   ]
  },
  {
   "cell_type": "code",
   "execution_count": 1,
   "metadata": {
    "collapsed": true
   },
   "outputs": [],
   "source": [
    "def calc_classification_error(predictions, class_labels):\n",
    "    n = predictions.size\n",
    "    num_of_errors = 0.\n",
    "    for idx in range(n):\n",
    "        if (predictions[idx] >= 0.5 and class_labels[idx]==0) or (predictions[idx] < 0.5 and class_labels[idx]==1):\n",
    "            num_of_errors += 1\n",
    "    return num_of_errors/n"
   ]
  },
  {
   "cell_type": "code",
   "execution_count": null,
   "metadata": {
    "collapsed": true
   },
   "outputs": [],
   "source": [
    "predictions = model.predict(features)\n",
    "print(\"Classification Error on Training Set: %.2f%%\" %(calc_classification_error(predictions, class_labels) * 100))"
   ]
  }
 ],
 "metadata": {
  "kernelspec": {
   "display_name": "Python 3",
   "language": "python",
   "name": "python3"
  },
  "language_info": {
   "codemirror_mode": {
    "name": "ipython",
    "version": 3
   },
   "file_extension": ".py",
   "mimetype": "text/x-python",
   "name": "python",
   "nbconvert_exporter": "python",
   "pygments_lexer": "ipython3",
   "version": "3.6.3"
  }
 },
 "nbformat": 4,
 "nbformat_minor": 2
}
